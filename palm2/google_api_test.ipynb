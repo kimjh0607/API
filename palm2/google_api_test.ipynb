{
 "cells": [
  {
   "cell_type": "code",
   "execution_count": 2,
   "metadata": {},
   "outputs": [],
   "source": [
    "# !pip install google-generativeai"
   ]
  },
  {
   "cell_type": "code",
   "execution_count": 4,
   "metadata": {},
   "outputs": [],
   "source": [
    "import google.generativeai as palm"
   ]
  },
  {
   "cell_type": "code",
   "execution_count": 5,
   "metadata": {},
   "outputs": [],
   "source": [
    "palm.configure(api_key='xxx')"
   ]
  },
  {
   "cell_type": "markdown",
   "metadata": {},
   "source": [
    "## Text"
   ]
  },
  {
   "cell_type": "code",
   "execution_count": 6,
   "metadata": {},
   "outputs": [
    {
     "data": {
      "text/plain": [
       "'cold'"
      ]
     },
     "execution_count": 6,
     "metadata": {},
     "output_type": "execute_result"
    }
   ],
   "source": [
    "response = palm.generate_text(prompt='the opposite of hot is')\n",
    "response.result"
   ]
  },
  {
   "cell_type": "markdown",
   "metadata": {},
   "source": [
    "## Chat"
   ]
  },
  {
   "cell_type": "code",
   "execution_count": 7,
   "metadata": {},
   "outputs": [
    {
     "data": {
      "text/plain": [
       "'Hello! How can I help you today?'"
      ]
     },
     "execution_count": 7,
     "metadata": {},
     "output_type": "execute_result"
    }
   ],
   "source": [
    "palm.chat(messages='hello?').last"
   ]
  },
  {
   "cell_type": "code",
   "execution_count": 11,
   "metadata": {},
   "outputs": [
    {
     "data": {
      "text/plain": [
       "'Sure, here is a joke:\\n\\nA man walks into a library, approaches the librarian, and asks for books about paranoia.\\n\\nThe librarian whispers, \"They\\'re right behind you!\"\\n\\nHere is another one:\\n\\nA man walks into a bar and orders a drink. As he sits there, he hears a high-pitched voice say, \"Hey, those jeans look really great on you!\"\\n\\nThe man looks around but sees nothing. He then returns to his drink thinking nothing more of it. But then, a moment later, he hears the same voice again, \"I really like what you have done with your hair!\"\\n\\nThe man again glances around but sees nothing. Now he wonders if should visit a doctor as he clearly seems to be hallucinating. He calmes himself down but then as he believes the voice is gone, he hears, \"You seem like an awesome person!\"\\n\\nHe puts his drink down, completely scared and looks around wildly. Still unable to find the source of the voice, he calls over to the bartender, \"Hey! What\\'s that voice I keep hearing?\"\\n\\n\"Those are the peanuts,\" the bartender replies. \"They\\'re complimentary.\"'"
      ]
     },
     "execution_count": 11,
     "metadata": {},
     "output_type": "execute_result"
    }
   ],
   "source": [
    "response = palm.chat(messages='can you tell me a joke?')\n",
    "response.last"
   ]
  },
  {
   "cell_type": "code",
   "execution_count": 14,
   "metadata": {},
   "outputs": [
    {
     "name": "stdout",
     "output_type": "stream",
     "text": [
      "Sure,\n",
      " here\n",
      " is\n",
      " a\n",
      " joke:\n",
      "\n",
      "A\n",
      " man\n",
      " walks\n",
      " into\n",
      " a\n",
      " library,\n",
      " approaches\n",
      " the\n",
      " librarian,\n",
      " and\n",
      " asks\n",
      " for\n",
      " books\n",
      " about\n",
      " paranoia.\n",
      "\n",
      "The\n",
      " librarian\n",
      " whispers,\n",
      " \"They're\n",
      " right\n",
      " behind\n",
      " you!\"\n",
      "\n",
      "Here\n",
      " is\n",
      " another\n",
      " one:\n",
      "\n",
      "A\n",
      " man\n",
      " walks\n",
      " into\n",
      " a\n",
      " bar\n",
      " and\n",
      " orders\n",
      " a\n",
      " drink.\n",
      " As\n",
      " he\n",
      " sits\n",
      " there,\n",
      " he\n",
      " hears\n",
      " a\n",
      " high-pitched\n",
      " voice\n",
      " say,\n",
      " \"Hey,\n",
      " those\n",
      " jeans\n",
      " look\n",
      " really\n",
      " great\n",
      " on\n",
      " you!\"\n",
      "\n",
      "The\n",
      " man\n",
      " looks\n",
      " around\n",
      " but\n",
      " sees\n",
      " nothing.\n",
      " He\n",
      " then\n",
      " returns\n",
      " to\n",
      " his\n",
      " drink\n",
      " thinking\n",
      " nothing\n",
      " more\n",
      " of\n",
      " it.\n",
      " But\n",
      " then,\n",
      " a\n",
      " moment\n",
      " later,\n",
      " he\n",
      " hears\n",
      " the\n",
      " same\n",
      " voice\n",
      " again,\n",
      " \"I\n",
      " really\n",
      " like\n",
      " what\n",
      " you\n",
      " have\n",
      " done\n",
      " with\n",
      " your\n",
      " hair!\"\n",
      "\n",
      "The\n",
      " man\n",
      " again\n",
      " glances\n",
      " around\n",
      " but\n",
      " sees\n",
      " nothing.\n",
      " Now\n",
      " he\n",
      " wonders\n",
      " if\n",
      " should\n",
      " visit\n",
      " a\n",
      " doctor\n",
      " as\n",
      " he\n",
      " clearly\n",
      " seems\n",
      " to\n",
      " be\n",
      " hallucinating.\n",
      " He\n",
      " calmes\n",
      " himself\n",
      " down\n",
      " but\n",
      " then\n",
      " as\n",
      " he\n",
      " believes\n",
      " the\n",
      " voice\n",
      " is\n",
      " gone,\n",
      " he\n",
      " hears,\n",
      " \"You\n",
      " seem\n",
      " like\n",
      " an\n",
      " awesome\n",
      " person!\"\n",
      "\n",
      "He\n",
      " puts\n",
      " his\n",
      " drink\n",
      " down,\n",
      " completely\n",
      " scared\n",
      " and\n",
      " looks\n",
      " around\n",
      " wildly.\n",
      " Still\n",
      " unable\n",
      " to\n",
      " find\n",
      " the\n",
      " source\n",
      " of\n",
      " the\n",
      " voice,\n",
      " he\n",
      " calls\n",
      " over\n",
      " to\n",
      " the\n",
      " bartender,\n",
      " \"Hey!\n",
      " What's\n",
      " that\n",
      " voice\n",
      " I\n",
      " keep\n",
      " hearing?\"\n",
      "\n",
      "\"Those\n",
      " are\n",
      " the\n",
      " peanuts,\"\n",
      " the\n",
      " bartender\n",
      " replies.\n",
      " \"They're\n",
      " complimentary.\""
     ]
    }
   ],
   "source": [
    "for i in response.last:\n",
    "    if i == ' ':\n",
    "        print()\n",
    "    print(i, end='')"
   ]
  },
  {
   "cell_type": "markdown",
   "metadata": {},
   "source": [
    "#### How to make a dashboard that collecting AI, DATA News"
   ]
  },
  {
   "cell_type": "code",
   "execution_count": 15,
   "metadata": {},
   "outputs": [
    {
     "data": {
      "text/plain": [
       "'To create a project to collect all AI and data news using a dashboard, you can follow these steps:\\n\\n1. Choose a data source. There are many different sources of AI and data news, such as news websites, blogs, and social media. You can choose one or more sources that you want to collect news from.\\n2. Create a dashboard. There are many different dashboarding tools available, such as Google Data Studio, Power BI, and Tableau. Choose a tool that you are comfortable using and that can meet your needs.\\n3. Create a data source connection. Once you have chosen a dashboarding tool, you need to create a data source connection to the news sources that you want to collect news from. This will allow the dashboard to pull in the latest news from those sources.\\n4. Create a dashboard layout. Once you have created a data source connection, you can start creating a dashboard layout. This will include adding charts, graphs, and other visuals to the dashboard.\\n5. Add news sources. Once you have created a dashboard layout, you can start adding news sources to the dashboard. This will allow the dashboard to pull in the latest news from those sources.\\n6. Add filters. You can also add filters to the dashboard to control which news is displayed. This can be useful if you want to focus on a specific topic or region.\\n7. Share the dashboard. Once you have created a dashboard, you can share it with others. This can be done by publishing the dashboard or by sharing a link to the dashboard.\\n\\nHere are some additional tips for creating a successful AI and data news project:\\n\\n* Choose a data source that is reliable and up-to-date.\\n* Create a dashboard that is easy to use and understand.\\n* Add filters to the dashboard to control which news is displayed.\\n* Share the dashboard with others to get feedback and improve the project.'"
      ]
     },
     "execution_count": 15,
     "metadata": {},
     "output_type": "execute_result"
    }
   ],
   "source": [
    "howtomake = palm.chat(messages='how to make a \\'collect all ai, data news\\' project with using a dashboard. could you tell me approximately guidence?')\n",
    "howtomake.last"
   ]
  },
  {
   "cell_type": "markdown",
   "metadata": {},
   "source": [
    "1. news website, blogs, social media - choose one that you want to collect news from\n",
    "2. create dash board such as google data studio, power bi, tableau\n",
    "3. create data source connection (dashboarding tools -- data source)\n",
    "4. create a dashboard layout (adding chart, graph, other visualization)\n",
    "5. adding new sources to the dashboard (to pull in the latest news from those sources.)\n",
    "6. add filter (region, specific topic)\n",
    "7. share the dashboard"
   ]
  },
  {
   "cell_type": "markdown",
   "metadata": {},
   "source": [
    "## Model"
   ]
  },
  {
   "cell_type": "code",
   "execution_count": 16,
   "metadata": {},
   "outputs": [],
   "source": [
    "model = palm.get_model('models/chat-bison-001')"
   ]
  },
  {
   "cell_type": "code",
   "execution_count": 18,
   "metadata": {},
   "outputs": [
    {
     "name": "stdout",
     "output_type": "stream",
     "text": [
      "Model(name='models/chat-bison-001', base_model_id='', version='001', display_name='Chat Bison', description='Chat-optimized generative language model.', input_token_limit=4096, output_token_limit=1024, supported_generation_methods=['generateMessage', 'countMessageTokens'], temperature=0.25, top_p=0.95, top_k=40)\n",
      "Model(name='models/text-bison-001', base_model_id='', version='001', display_name='Text Bison', description='Model targeted for text generation.', input_token_limit=8196, output_token_limit=1024, supported_generation_methods=['generateText', 'countTextTokens', 'createTunedTextModel'], temperature=0.7, top_p=0.95, top_k=40)\n",
      "Model(name='models/embedding-gecko-001', base_model_id='', version='001', display_name='Embedding Gecko', description='Obtain a distributed representation of a text.', input_token_limit=1024, output_token_limit=1, supported_generation_methods=['embedText', 'countTextTokens'], temperature=None, top_p=None, top_k=None)\n"
     ]
    }
   ],
   "source": [
    "import pprint\n",
    "for model in palm.list_models():\n",
    "    pprint.pprint(model)"
   ]
  },
  {
   "cell_type": "markdown",
   "metadata": {},
   "source": [
    "## Count Token"
   ]
  },
  {
   "cell_type": "code",
   "execution_count": 29,
   "metadata": {},
   "outputs": [
    {
     "data": {
      "text/plain": [
       "{'token_count': 21}"
      ]
     },
     "execution_count": 29,
     "metadata": {},
     "output_type": "execute_result"
    }
   ],
   "source": [
    "from google.generativeai import discuss\n",
    "# discuss = discuss()\n",
    "\n",
    "ex = '오늘 기분이 어떠니?'\n",
    "\n",
    "countTokens = discuss.count_message_tokens(prompt=ex2)\n",
    "countTokens"
   ]
  },
  {
   "cell_type": "code",
   "execution_count": 28,
   "metadata": {},
   "outputs": [
    {
     "data": {
      "text/plain": [
       "{'token_count': 18}"
      ]
     },
     "execution_count": 28,
     "metadata": {},
     "output_type": "execute_result"
    }
   ],
   "source": [
    "ex2 = '오늘 점심은 무얼 먹었니?'\n",
    "\n",
    "countTokens2 = discuss.count_message_tokens(messages=ex)\n",
    "countTokens2"
   ]
  },
  {
   "cell_type": "code",
   "execution_count": null,
   "metadata": {},
   "outputs": [],
   "source": []
  },
  {
   "cell_type": "code",
   "execution_count": null,
   "metadata": {},
   "outputs": [],
   "source": []
  },
  {
   "cell_type": "code",
   "execution_count": null,
   "metadata": {},
   "outputs": [],
   "source": []
  },
  {
   "cell_type": "code",
   "execution_count": null,
   "metadata": {},
   "outputs": [],
   "source": []
  },
  {
   "cell_type": "code",
   "execution_count": null,
   "metadata": {},
   "outputs": [],
   "source": []
  },
  {
   "cell_type": "code",
   "execution_count": null,
   "metadata": {},
   "outputs": [],
   "source": []
  }
 ],
 "metadata": {
  "kernelspec": {
   "display_name": "ds_study",
   "language": "python",
   "name": "python3"
  },
  "language_info": {
   "codemirror_mode": {
    "name": "ipython",
    "version": 3
   },
   "file_extension": ".py",
   "mimetype": "text/x-python",
   "name": "python",
   "nbconvert_exporter": "python",
   "pygments_lexer": "ipython3",
   "version": "3.8.18"
  }
 },
 "nbformat": 4,
 "nbformat_minor": 2
}
